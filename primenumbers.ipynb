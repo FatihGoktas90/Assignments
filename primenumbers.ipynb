{
 "cells": [
  {
   "cell_type": "code",
   "execution_count": 36,
   "id": "336f77f6",
   "metadata": {},
   "outputs": [],
   "source": [
    "#Task : Write a program that takes a number from the user and prints the result to check if it is a prime number.\n",
    "\n",
    "prime=int(input(\"Please enter a number:\"))\n",
    "control=0\n",
    "counter=0\n",
    "\n",
    "\n",
    "if prime==0 or prime==1 :\n",
    "    print(\"Please input greater than 1\")\n",
    "    \n",
    "elif prime ==2:\n",
    "    print(\"congrats you find minimum prime number\")\n",
    "else:    \n",
    "    for i in range(1,prime):\n",
    "        control=prime%i\n",
    "        if control ==0:\n",
    "            counter+=1\n",
    "            if counter >=2:\n",
    "                print(prime,\"is not a prime number\")\n",
    "                break\n",
    "        else:\n",
    "            print(prime,\"is a prime number\")\n",
    "            break\n",
    "    "
   ]
  },
  {
   "cell_type": "code",
   "execution_count": null,
   "id": "203ad770",
   "metadata": {},
   "outputs": [],
   "source": []
  },
  {
   "cell_type": "code",
   "execution_count": null,
   "id": "bc0318ba",
   "metadata": {},
   "outputs": [],
   "source": []
  },
  {
   "cell_type": "code",
   "execution_count": null,
   "id": "02202026",
   "metadata": {},
   "outputs": [],
   "source": []
  }
 ],
 "metadata": {
  "kernelspec": {
   "display_name": "Python 3",
   "language": "python",
   "name": "python3"
  },
  "language_info": {
   "codemirror_mode": {
    "name": "ipython",
    "version": 3
   },
   "file_extension": ".py",
   "mimetype": "text/x-python",
   "name": "python",
   "nbconvert_exporter": "python",
   "pygments_lexer": "ipython3",
   "version": "3.8.8"
  }
 },
 "nbformat": 4,
 "nbformat_minor": 5
}
