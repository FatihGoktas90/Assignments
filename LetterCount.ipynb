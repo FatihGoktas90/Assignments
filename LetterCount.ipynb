{
 "cells": [
  {
   "cell_type": "code",
   "execution_count": 4,
   "id": "f12353ee",
   "metadata": {},
   "outputs": [
    {
     "name": "stdout",
     "output_type": "stream",
     "text": [
      "{'b': 1, 'u': 1, ' ': 8, 'g': 1, 'ü': 5, 'n': 5, 'ç': 1, 'o': 3, 'k': 3, 'h': 1, 'z': 1, 'l': 2, 'y': 3, 'm': 1, '.': 5, 'A': 1, 'r': 2, 'ı': 3, 'a': 2, '2': 1, 's': 4, 'e': 1, 'i': 1}\n"
     ]
    }
   ],
   "source": [
    "string = \"bu gün çok hüzünlüyüm. Ayrılık yakın. 2 session sonra...\"\n",
    "word_dict={}\n",
    "for n in string :\n",
    "    \n",
    "    if n in word_dict :\n",
    "        word_dict[n]+=1\n",
    "        \n",
    "    else:\n",
    "        word_dict[n]=1\n",
    "        \n",
    "print(word_dict)"
   ]
  },
  {
   "cell_type": "code",
   "execution_count": null,
   "id": "8f1093b6",
   "metadata": {},
   "outputs": [],
   "source": []
  },
  {
   "cell_type": "code",
   "execution_count": null,
   "id": "69157374",
   "metadata": {},
   "outputs": [],
   "source": []
  }
 ],
 "metadata": {
  "kernelspec": {
   "display_name": "Python 3",
   "language": "python",
   "name": "python3"
  },
  "language_info": {
   "codemirror_mode": {
    "name": "ipython",
    "version": 3
   },
   "file_extension": ".py",
   "mimetype": "text/x-python",
   "name": "python",
   "nbconvert_exporter": "python",
   "pygments_lexer": "ipython3",
   "version": "3.8.8"
  }
 },
 "nbformat": 4,
 "nbformat_minor": 5
}
