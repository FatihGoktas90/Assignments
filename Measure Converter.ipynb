{
 "cells": [
  {
   "cell_type": "code",
   "execution_count": 2,
   "id": "ef23cc1a",
   "metadata": {},
   "outputs": [
    {
     "name": "stdout",
     "output_type": "stream",
     "text": [
      "Please entered Celsius degree : 20\n",
      "20 santigrat =  68.0 Fahrenheit\n"
     ]
    }
   ],
   "source": [
    "#Task-1:\n",
    "\n",
    "#Write a short Python program that asks the user to enter Celsius temperature (it can be a decimal number), converts the entered temperature into Fahrenheit degree and prints the result.\n",
    "\n",
    "# Converting formula  Celsius to Fahrenheit is F=C*9/5+32\n",
    "\n",
    "# Examples 20 Celsius \n",
    "\n",
    "C=int(input(\"Please entered Celsius degree : \"))\n",
    "F=C*9/5+32\n",
    "\n",
    "print(\"20 santigrat = \", F ,\"Fahrenheit\")\n",
    "\n",
    "\n",
    "\n"
   ]
  },
  {
   "cell_type": "code",
   "execution_count": 4,
   "id": "403a7cd0",
   "metadata": {},
   "outputs": [
    {
     "name": "stdout",
     "output_type": "stream",
     "text": [
      "Please entered kilometers distance : 100\n",
      "Your entered kilometers equals =  62.0  Miles\n"
     ]
    }
   ],
   "source": [
    "#Task-2:\n",
    "\n",
    "#Write a short Python program that asks the user to enter a distance (it can be a decimal number) in kilometers, converts the entered distance into miles and prints the result.\n",
    "\n",
    "# Converting formula kilometers to miles 1 kilometers = 0,62 miles \n",
    "\n",
    "k=int(input(\"Please entered kilometers distance : \"))\n",
    "m=k * 62/100 \n",
    "print(\"Your entered kilometers equals = \",m, \" Miles\")"
   ]
  },
  {
   "cell_type": "code",
   "execution_count": null,
   "id": "17f87728",
   "metadata": {},
   "outputs": [],
   "source": []
  }
 ],
 "metadata": {
  "kernelspec": {
   "display_name": "Python 3",
   "language": "python",
   "name": "python3"
  },
  "language_info": {
   "codemirror_mode": {
    "name": "ipython",
    "version": 3
   },
   "file_extension": ".py",
   "mimetype": "text/x-python",
   "name": "python",
   "nbconvert_exporter": "python",
   "pygments_lexer": "ipython3",
   "version": "3.8.8"
  }
 },
 "nbformat": 4,
 "nbformat_minor": 5
}
