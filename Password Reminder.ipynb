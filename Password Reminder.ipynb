{
 "cells": [
  {
   "cell_type": "code",
   "execution_count": 3,
   "id": "444a02b0",
   "metadata": {},
   "outputs": [
    {
     "name": "stdout",
     "output_type": "stream",
     "text": [
      "Please entered name : Ahmet\n",
      "Hello,Ahmet! See you Later :\n"
     ]
    }
   ],
   "source": [
    "#Password Reminder\n",
    "\n",
    "#Write a program that \n",
    "\n",
    "#Takes the first name from the user and compares it to yours,\n",
    "#Then if the name the user entered is the same as yours, print out such as : \"Hello, Joseph! The password is : W@12\",\n",
    "#If the name the user entered is not the same as yours, print out such as : \"Hello, Amina! See you later.\"\n",
    "\n",
    "username = \"Fatih\"\n",
    "password = \"W@12\"\n",
    "\n",
    "enteredvalue=input(\"Please entered name : \")\n",
    "\n",
    "if enteredvalue==username:\n",
    "    print(\"Hello,{}! The password is : {}\".format(username,password))\n",
    "    \n",
    "else: \n",
    "    print(\"Hello,{}! See you Later.\".format(enteredvalue))"
   ]
  },
  {
   "cell_type": "code",
   "execution_count": null,
   "id": "6abcbe35",
   "metadata": {},
   "outputs": [],
   "source": []
  }
 ],
 "metadata": {
  "kernelspec": {
   "display_name": "Python 3",
   "language": "python",
   "name": "python3"
  },
  "language_info": {
   "codemirror_mode": {
    "name": "ipython",
    "version": 3
   },
   "file_extension": ".py",
   "mimetype": "text/x-python",
   "name": "python",
   "nbconvert_exporter": "python",
   "pygments_lexer": "ipython3",
   "version": "3.8.8"
  }
 },
 "nbformat": 4,
 "nbformat_minor": 5
}
