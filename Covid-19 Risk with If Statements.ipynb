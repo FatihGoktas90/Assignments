{
 "cells": [
  {
   "cell_type": "code",
   "execution_count": 28,
   "id": "af0136cd",
   "metadata": {},
   "outputs": [
    {
     "name": "stdout",
     "output_type": "stream",
     "text": [
      "Are you a cigarette addict older than 75 years old?:False \n",
      "Do you have a severe chronic disease?:False\n",
      "Is your immune system too weak?:False\n",
      "You are not in risky group\n"
     ]
    }
   ],
   "source": [
    "#Covid-19 Risk with If Statements\n",
    "#Problem :\n",
    "\n",
    "#Task : Estimating the risk of death from coronavirus. Write a program that;\n",
    "\n",
    "#Takes \"Yes\" or \"No\" from the user as an answer to the following questions :\n",
    "\n",
    "#Are you a cigarette addict older than 75 years old? Variable → age\n",
    "\n",
    "#Do you have a severe chronic disease? Variable → chronic\n",
    "\n",
    "#Is your immune system too weak? Variable → immune\n",
    "\n",
    "#Set a logical algorithm using boolean logic operators (and/or) and\n",
    "#use if-statements with the given variables in order to print out us a message : \"You are in risky group\"(if True ) or \"You are not in risky group\" (if False).\n",
    "#age =  # can be assigned only True/False\n",
    "#chronic =  # can be assigned only True/False\n",
    "#immune =  # can be assigned only True/False\n",
    "#risk = ?\n",
    "\n",
    "\n",
    "print(\"************************COVİD 19 RİSK RATE ******************************************\")\n",
    "print(\"*****************Please answer the questions with True AND False*********************\")\n",
    "\n",
    "\n",
    "\n",
    "age = input(\"Are you a cigarette addict older than 75 years old?:\")\n",
    "if age == \"True\":\n",
    "    age=True\n",
    "else:\n",
    "    age=False\n",
    "\n",
    "chronic=input(\"Do you have a severe chronic disease?:\")\n",
    "\n",
    "if chronic == \"True\":\n",
    "    chronic=True\n",
    "else:\n",
    "    chronic=True\n",
    "\n",
    "immune = input(\"Is your immune system too weak?:\")\n",
    "\n",
    "if immune == \"True\":\n",
    "    \n",
    "    immune=True\n",
    "else:\n",
    "    immune=True\n",
    "\n",
    "\n",
    "risk=age and chronic and immune\n",
    "\n",
    "\n",
    "if risk:\n",
    "    \n",
    "    print(\"You are in risky group\")\n",
    "else:\n",
    "    print(\"You are not in risky group\")\n",
    "\n"
   ]
  },
  {
   "cell_type": "code",
   "execution_count": null,
   "id": "ff13de1e",
   "metadata": {},
   "outputs": [],
   "source": []
  },
  {
   "cell_type": "code",
   "execution_count": null,
   "id": "130bc2d1",
   "metadata": {},
   "outputs": [],
   "source": []
  }
 ],
 "metadata": {
  "kernelspec": {
   "display_name": "Python 3",
   "language": "python",
   "name": "python3"
  },
  "language_info": {
   "codemirror_mode": {
    "name": "ipython",
    "version": 3
   },
   "file_extension": ".py",
   "mimetype": "text/x-python",
   "name": "python",
   "nbconvert_exporter": "python",
   "pygments_lexer": "ipython3",
   "version": "3.8.8"
  }
 },
 "nbformat": 4,
 "nbformat_minor": 5
}
