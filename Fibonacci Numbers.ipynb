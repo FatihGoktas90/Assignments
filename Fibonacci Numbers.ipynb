{
 "cells": [
  {
   "cell_type": "code",
   "execution_count": 7,
   "id": "604e658d",
   "metadata": {},
   "outputs": [
    {
     "name": "stdout",
     "output_type": "stream",
     "text": [
      "[1, 1, 2, 3, 5, 8, 13, 21, 34, 55]\n"
     ]
    }
   ],
   "source": [
    "#Fibonacci Numbers\n",
    "\n",
    "\n",
    "#Task : Create a list consisting of Fibonacci numbers from 1 to 55 using control flow statements.\n",
    "# output: fibonacci →  [1, 1, 2, 3, 5, 8, 13, 21, 34, 55]\n",
    "\n",
    "f=\n",
    "fibonacci=list()\n",
    "a,b=1,1\n",
    "counter=0\n",
    "for i in range(10):\n",
    "    fibonacci.append(a)\n",
    "    a,b=b,a+b\n",
    "print(fibonacci)"
   ]
  },
  {
   "cell_type": "code",
   "execution_count": null,
   "id": "d6fe9c32",
   "metadata": {},
   "outputs": [],
   "source": []
  },
  {
   "cell_type": "code",
   "execution_count": null,
   "id": "54f10114",
   "metadata": {},
   "outputs": [],
   "source": []
  },
  {
   "cell_type": "code",
   "execution_count": null,
   "id": "0534f62c",
   "metadata": {},
   "outputs": [],
   "source": []
  }
 ],
 "metadata": {
  "kernelspec": {
   "display_name": "Python 3",
   "language": "python",
   "name": "python3"
  },
  "language_info": {
   "codemirror_mode": {
    "name": "ipython",
    "version": 3
   },
   "file_extension": ".py",
   "mimetype": "text/x-python",
   "name": "python",
   "nbconvert_exporter": "python",
   "pygments_lexer": "ipython3",
   "version": "3.8.8"
  }
 },
 "nbformat": 4,
 "nbformat_minor": 5
}
