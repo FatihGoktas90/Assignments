{
 "cells": [
  {
   "cell_type": "code",
   "execution_count": 49,
   "id": "e236f2d9",
   "metadata": {},
   "outputs": [
    {
     "name": "stdout",
     "output_type": "stream",
     "text": [
      "True uses both hand fingers\n",
      "False uses only left-hand fingers\n",
      "False uses only right-hand fingers\n"
     ]
    }
   ],
   "source": [
    "#Comfortable Words\n",
    "\n",
    "#To improve your knowledge of collection types (set), \n",
    "#boolean logic and raise your awareness of \"ten fingers keyboard\"\n",
    "\n",
    "#Task : Find out if the given word is \"comfortable words\" in relation to the ten-finger keyboard use.\n",
    "\n",
    "#A comfortable word is a word which you can type always alternating the hand you type with (assuming you type using a Q-keyboard and use of the ten-fingers standard).\n",
    "#The word will always be a string consisting of only letters from a to z.\n",
    "#Write a program which returns True if it's a comfortable word or False otherwise.\n",
    "\n",
    "#Note : Do a quick research on ten-fingers keyboard usage. (*) the explanation doesn't need to be in the output.\n",
    "\n",
    "\n",
    "# Given #desired output\n",
    "\n",
    "#tester\tFalse (uses only left-hand fingers)*\n",
    "#polly\tFalse (uses only right-hand fingers)*\n",
    "#clarusway\tTrue (uses both hand fingers)*\n",
    "\n",
    "left_handset ={\"Q\", \"W\", \"E\", \"R\", \"T\", \"A\", \"S\", \"D\", \"F\", \"G\", \"Z\", \"X\", \"C\" ,\"V\", \"B\",\"q\" ,\"w\" ,\"e\", \"r\", \"t\", \"a\" ,\"s\" ,\"d\" ,\"f\", \"g\", \"z\", \"x\" ,\"c\", \"v\", \"b\"}\n",
    "right_handset ={\"Y\",\"U\",\"I\",\"O\",\"P\",\"H\",\"J\",\"K\",\"L\",\"N\",\"M\",\"y\",\"u\",\"ı\",\"o\",\"p\",\"h\",\"j\",\"k\",\"l\",\"n\",\"m\"}\n",
    "\n",
    "testerset=set(\"clarusway\")\n",
    "\n",
    "controls1 = bool(testerset.intersection(left_handset))\n",
    "controls2 = bool(testerset.intersection(right_handset))\n",
    "controls = controls1 and controls2\n",
    "print(controls,\"uses both hand fingers\")\n",
    "\n",
    "\n",
    "testerset=set(\"tester\")\n",
    "controls1 = bool(testerset.intersection(left_handset))\n",
    "controls2 = bool(testerset.intersection(right_handset))\n",
    "controls = controls1 and controls2\n",
    "print(controls,\"uses only left-hand fingers\")\n",
    "\n",
    "\n",
    "testerset=set(\"polly\")\n",
    "controls1 = bool(testerset.intersection(left_handset))\n",
    "controls2 = bool(testerset.intersection(right_handset))\n",
    "controls = controls1 and controls2\n",
    "print(controls,\"uses only right-hand fingers\")\n",
    "\n",
    "\n"
   ]
  },
  {
   "cell_type": "code",
   "execution_count": null,
   "id": "43654c09",
   "metadata": {},
   "outputs": [],
   "source": []
  }
 ],
 "metadata": {
  "kernelspec": {
   "display_name": "Python 3",
   "language": "python",
   "name": "python3"
  },
  "language_info": {
   "codemirror_mode": {
    "name": "ipython",
    "version": 3
   },
   "file_extension": ".py",
   "mimetype": "text/x-python",
   "name": "python",
   "nbconvert_exporter": "python",
   "pygments_lexer": "ipython3",
   "version": "3.8.8"
  }
 },
 "nbformat": 4,
 "nbformat_minor": 5
}
