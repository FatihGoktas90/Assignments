{
 "cells": [
  {
   "cell_type": "code",
   "execution_count": 3,
   "id": "a6f96055",
   "metadata": {},
   "outputs": [
    {
     "name": "stdout",
     "output_type": "stream",
     "text": [
      "There is a risk of death\n"
     ]
    }
   ],
   "source": [
    "#Task : Estimating the risk of death from coronavirus.\n",
    "\n",
    "#Consider the following questions in terms of True/False regarding anyone else.\n",
    "\n",
    "#Are you a cigarette addict older than 75 years old? Variable → age\n",
    "\n",
    "#Do you have a severe chronic disease? Variable → chronic\n",
    "\n",
    "#Is your immune system too weak? Variable → immune\n",
    "\n",
    "age = True # can be assigned only True/False\n",
    "chronic =False  # can be assigned only True/False\n",
    "immune = True # can be assigned only True/False\n",
    "risk = age or chronic or immune\n",
    "if risk :\n",
    "    print(\"There is a risk of death\")\n",
    "else:\n",
    "    print(\"There is not a risk of death\")"
   ]
  },
  {
   "cell_type": "code",
   "execution_count": null,
   "id": "9db140bc",
   "metadata": {},
   "outputs": [],
   "source": []
  }
 ],
 "metadata": {
  "kernelspec": {
   "display_name": "Python 3",
   "language": "python",
   "name": "python3"
  },
  "language_info": {
   "codemirror_mode": {
    "name": "ipython",
    "version": 3
   },
   "file_extension": ".py",
   "mimetype": "text/x-python",
   "name": "python",
   "nbconvert_exporter": "python",
   "pygments_lexer": "ipython3",
   "version": "3.8.8"
  }
 },
 "nbformat": 4,
 "nbformat_minor": 5
}
