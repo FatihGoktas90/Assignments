{
 "cells": [
  {
   "cell_type": "code",
   "execution_count": 1,
   "id": "ff3e3b76",
   "metadata": {},
   "outputs": [
    {
     "name": "stdout",
     "output_type": "stream",
     "text": [
      "First day your money :  1490.0\n"
     ]
    }
   ],
   "source": [
    "# If you had deposited a coin on the cryptocurrency exchange that brought 7% fixed profit daily for a week, how much would your $ 1000 reach at the end of the 7th day?\n",
    "\n",
    "investing_money =1000 \n",
    "\n",
    "profit=+investing_money *7/100\n",
    "\n",
    "# End of the week \n",
    "\n",
    "total_profit = investing_money+(profit*7)\n",
    "\n",
    "\n",
    "print(\"First day your money : \",total_profit)"
   ]
  },
  {
   "cell_type": "code",
   "execution_count": null,
   "id": "42cfe155",
   "metadata": {},
   "outputs": [],
   "source": []
  }
 ],
 "metadata": {
  "kernelspec": {
   "display_name": "Python 3",
   "language": "python",
   "name": "python3"
  },
  "language_info": {
   "codemirror_mode": {
    "name": "ipython",
    "version": 3
   },
   "file_extension": ".py",
   "mimetype": "text/x-python",
   "name": "python",
   "nbconvert_exporter": "python",
   "pygments_lexer": "ipython3",
   "version": "3.8.8"
  }
 },
 "nbformat": 4,
 "nbformat_minor": 5
}
